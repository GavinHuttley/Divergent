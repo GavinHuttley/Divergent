{
 "cells": [
  {
   "cell_type": "markdown",
   "metadata": {},
   "source": [
    "# Purpose\n",
    "\n",
    "Evaluate ability of max-divergent to recover known divergent lineages. We generate 4 synthetic lineages and check whether the result of `max_divergent` contains one representative of each pool.\n",
    "\n",
    "# Design\n",
    "\n",
    "We define 4 distinct sequence compositions. We then defined two distinct \"pool\" compositions in which each sequence family was present at equal frequency (termed balanced) or one sequence was very rare (termed imbalanced). In each scenario, we simulated a total of 50 sequences. This design is intended to assess whether rare sequences can be recovered.\n",
    "\n",
    "We expect `divergent max` to identify a set of precisely 4 sequences with one representative of each pool. We examined the influence of statistic choice."
   ]
  },
  {
   "cell_type": "markdown",
   "metadata": {},
   "source": [
    "# Result summary\n",
    "\n",
    "Aside from using the `total_jsd` statistic, perfect recall (one representative from each of 4 distinct pools) was observed for all cases."
   ]
  },
  {
   "cell_type": "code",
   "execution_count": 2,
   "metadata": {},
   "outputs": [
    {
     "data": {
      "text/html": [
       "\n",
       "<div class=\"c3table\">\n",
       "\n",
       "<style>\n",
       ".c3table table {margin: 10px 0;}\n",
       ".c3table tr:last-child {border-bottom: 1px solid #000;} \n",
       ".c3table tr > th {text-align: left; padding: 0 5px;}\n",
       ".c3table tr > td {text-align: left; padding: 5px;}\n",
       ".c3table tr:nth-child(even) {background: #f7f7f7 !important;}\n",
       ".c3table .ellipsis {background: rgba(0, 0, 0, .01);}\n",
       ".c3table .index {background: rgba(161, 195, 209, 0.0); margin: 10px; font-weight: 600;}\n",
       ".c3table .head_cell {background: rgba(161, 195, 209, 0.75); font-weight: bold; text-align: center;}\n",
       ".c3table caption {color: rgb(250, 250, 250); background: rgba(30, 140, 200, 1); padding: 3px; white-space: nowrap; caption-side: top;}\n",
       ".c3table .cell_title {font-weight: bold;}\n",
       ".c3col_left { text-align: left !important; display: block;}\n",
       ".c3col_right { text-align: right !important; display: block;}\n",
       ".c3col_center { text-align: center !important; display: block;}\n",
       "</style>\n",
       "\n",
       "<table>\n",
       "\n",
       "<thead class=\"head_cell\">\n",
       "<th>Pool</th><th>pop_size</th><th>repeats</th><th>seq_len</th><th>stat</th><th>mean(correct)</th><th>stdv(correct)</th><th>Correct (%)</th>\n",
       "</thead>\n",
       "<tbody>\n",
       "<tr><td><span class=\"c3col_left\">balanced</span></td><td><span class=\"c3col_right\">50</span></td><td><span class=\"c3col_right\">3</span></td><td><span class=\"c3col_right\">200</span></td><td><span class=\"c3col_left\">mean_jsd</span></td><td><span class=\"c3col_right\">50.0</span></td><td><span class=\"c3col_right\">0.0</span></td><td><span class=\"c3col_right\">100.0</span></td></tr>\n",
       "<tr><td><span class=\"c3col_left\">imbalanced</span></td><td><span class=\"c3col_right\">50</span></td><td><span class=\"c3col_right\">3</span></td><td><span class=\"c3col_right\">200</span></td><td><span class=\"c3col_left\">mean_jsd</span></td><td><span class=\"c3col_right\">50.0</span></td><td><span class=\"c3col_right\">0.0</span></td><td><span class=\"c3col_right\">100.0</span></td></tr>\n",
       "<tr><td><span class=\"c3col_left\">balanced</span></td><td><span class=\"c3col_right\">50</span></td><td><span class=\"c3col_right\">3</span></td><td><span class=\"c3col_right\">200</span></td><td><span class=\"c3col_left\">mean_delta_jsd</span></td><td><span class=\"c3col_right\">50.0</span></td><td><span class=\"c3col_right\">0.0</span></td><td><span class=\"c3col_right\">100.0</span></td></tr>\n",
       "<tr><td><span class=\"c3col_left\">imbalanced</span></td><td><span class=\"c3col_right\">50</span></td><td><span class=\"c3col_right\">3</span></td><td><span class=\"c3col_right\">200</span></td><td><span class=\"c3col_left\">mean_delta_jsd</span></td><td><span class=\"c3col_right\">50.0</span></td><td><span class=\"c3col_right\">0.0</span></td><td><span class=\"c3col_right\">100.0</span></td></tr>\n",
       "<tr><td><span class=\"c3col_left\">imbalanced</span></td><td><span class=\"c3col_right\">50</span></td><td><span class=\"c3col_right\">3</span></td><td><span class=\"c3col_right\">200</span></td><td><span class=\"c3col_left\">total_jsd</span></td><td><span class=\"c3col_right\">22.0</span></td><td><span class=\"c3col_right\">0.0</span></td><td><span class=\"c3col_right\">44.0</span></td></tr>\n",
       "<tr><td><span class=\"c3col_left\">balanced</span></td><td><span class=\"c3col_right\">50</span></td><td><span class=\"c3col_right\">3</span></td><td><span class=\"c3col_right\">200</span></td><td><span class=\"c3col_left\">total_jsd</span></td><td><span class=\"c3col_right\">18.3</span></td><td><span class=\"c3col_right\">1.5</span></td><td><span class=\"c3col_right\">36.7</span></td></tr>\n",
       "<tr><td><span class=\"c3col_left\">balanced</span></td><td><span class=\"c3col_right\">50</span></td><td><span class=\"c3col_right\">3</span></td><td><span class=\"c3col_right\">1000</span></td><td><span class=\"c3col_left\">mean_jsd</span></td><td><span class=\"c3col_right\">50.0</span></td><td><span class=\"c3col_right\">0.0</span></td><td><span class=\"c3col_right\">100.0</span></td></tr>\n",
       "<tr><td><span class=\"c3col_left\">imbalanced</span></td><td><span class=\"c3col_right\">50</span></td><td><span class=\"c3col_right\">3</span></td><td><span class=\"c3col_right\">1000</span></td><td><span class=\"c3col_left\">mean_jsd</span></td><td><span class=\"c3col_right\">50.0</span></td><td><span class=\"c3col_right\">0.0</span></td><td><span class=\"c3col_right\">100.0</span></td></tr>\n",
       "<tr><td><span class=\"c3col_left\">balanced</span></td><td><span class=\"c3col_right\">50</span></td><td><span class=\"c3col_right\">3</span></td><td><span class=\"c3col_right\">1000</span></td><td><span class=\"c3col_left\">mean_delta_jsd</span></td><td><span class=\"c3col_right\">50.0</span></td><td><span class=\"c3col_right\">0.0</span></td><td><span class=\"c3col_right\">100.0</span></td></tr>\n",
       "<tr><td><span class=\"c3col_left\">imbalanced</span></td><td><span class=\"c3col_right\">50</span></td><td><span class=\"c3col_right\">3</span></td><td><span class=\"c3col_right\">1000</span></td><td><span class=\"c3col_left\">mean_delta_jsd</span></td><td><span class=\"c3col_right\">50.0</span></td><td><span class=\"c3col_right\">0.0</span></td><td><span class=\"c3col_right\">100.0</span></td></tr>\n",
       "</tbody>\n",
       "</table>\n",
       "<p>\n",
       "10 rows x 8 columns</p>\n",
       "</div>"
      ],
      "text/plain": [
       "===============================================================================================================\n",
       "Pool          pop_size    repeats    seq_len    stat              mean(correct)    stdv(correct)    Correct (%)\n",
       "---------------------------------------------------------------------------------------------------------------\n",
       "balanced            50          3        200    mean_jsd                   50.0              0.0          100.0\n",
       "imbalanced          50          3        200    mean_jsd                   50.0              0.0          100.0\n",
       "balanced            50          3        200    mean_delta_jsd             50.0              0.0          100.0\n",
       "imbalanced          50          3        200    mean_delta_jsd             50.0              0.0          100.0\n",
       "imbalanced          50          3        200    total_jsd                  22.0              0.0           44.0\n",
       "balanced            50          3        200    total_jsd                  18.3              1.5           36.7\n",
       "balanced            50          3       1000    mean_jsd                   50.0              0.0          100.0\n",
       "imbalanced          50          3       1000    mean_jsd                   50.0              0.0          100.0\n",
       "balanced            50          3       1000    mean_delta_jsd             50.0              0.0          100.0\n",
       "imbalanced          50          3       1000    mean_delta_jsd             50.0              0.0          100.0\n",
       "---------------------------------------------------------------------------------------------------------------\n",
       "\n",
       "10 rows x 8 columns"
      ]
     },
     "execution_count": 2,
     "metadata": {},
     "output_type": "execute_result"
    }
   ],
   "source": [
    "from cogent3 import load_table\n",
    "\n",
    "table = load_table(\"synthetic_knowns_summary.tsv\", digits=2)\n",
    "table = table.with_new_column(\"Correct (%)\", lambda x: 100 * x[0] / x[1], columns=[\"mean(correct)\", \"pop_size\"], digits=1)\n",
    "table"
   ]
  }
 ],
 "metadata": {
  "kernelspec": {
   "display_name": "Python 3.10.0 ('c310dev')",
   "language": "python",
   "name": "python3"
  },
  "language_info": {
   "codemirror_mode": {
    "name": "ipython",
    "version": 3
   },
   "file_extension": ".py",
   "mimetype": "text/x-python",
   "name": "python",
   "nbconvert_exporter": "python",
   "pygments_lexer": "ipython3",
   "version": "3.10.0"
  },
  "orig_nbformat": 4,
  "vscode": {
   "interpreter": {
    "hash": "cbba2c586c8ece813a5f7aa9f6ff7744ff5b0d63355ab49e33feef8cb8cb0591"
   }
  }
 },
 "nbformat": 4,
 "nbformat_minor": 2
}
