{
 "cells": [
  {
   "cell_type": "code",
   "execution_count": 1,
   "metadata": {},
   "outputs": [
    {
     "name": "stderr",
     "output_type": "stream",
     "text": [
      "[RSB-072834:16345] shmem: mmap: an error occurred while determining whether or not /var/folders/z_/8kd296796zl2zqd95fkv16pnx929m9/T//ompi.RSB-072834.2056332937/jf.0/713949184/sm_segment.RSB-072834.2056332937.2a8e0000.0 could be created.\n"
     ]
    }
   ],
   "source": [
    "from cogent3 import available_apps"
   ]
  },
  {
   "cell_type": "code",
   "execution_count": 2,
   "metadata": {},
   "outputs": [
    {
     "data": {
      "text/html": [
       "\n",
       "<div class=\"c3table\">\n",
       "\n",
       "<style>\n",
       ".c3table table {margin: 10px 0;}\n",
       ".c3table tr:last-child {border-bottom: 1px solid #000;} \n",
       ".c3table tr > th {text-align: left; padding: 0 5px;}\n",
       ".c3table tr > td {text-align: left; padding: 5px;}\n",
       ".c3table tr:nth-child(even) {background: #f7f7f7 !important;}\n",
       ".c3table .ellipsis {background: rgba(0, 0, 0, .01);}\n",
       ".c3table .index {background: rgba(161, 195, 209, 0.0); margin: 10px; font-weight: 600;}\n",
       ".c3table .head_cell {background: rgba(161, 195, 209, 0.75); font-weight: bold; text-align: center;}\n",
       ".c3table caption {color: rgb(250, 250, 250); background: rgba(30, 140, 200, 1); padding: 3px; white-space: nowrap; caption-side: top;}\n",
       ".c3table .cell_title {font-weight: bold;}\n",
       ".c3col_left { text-align: left !important; display: block;}\n",
       ".c3col_right { text-align: right !important; display: block;}\n",
       ".c3col_center { text-align: center !important; display: block;}\n",
       "</style>\n",
       "\n",
       "<table>\n",
       "\n",
       "<thead class=\"head_cell\">\n",
       "<th>module</th><th>name</th><th>composable</th><th>doc</th><th>input type</th><th>output type</th>\n",
       "</thead>\n",
       "<tbody>\n",
       "<tr><td><span class=\"c3col_left\">divergent.app</span></td><td><span class=\"c3col_left\">dvgt_seq_file_to_data_store</span></td><td><span class=\"c3col_left\">True</span></td><td><span class=\"c3col_left\"></span></td><td><span class=\"c3col_left\">IdentifierType</span></td><td><span class=\"c3col_left\">DataStoreABC</span></td></tr>\n",
       "</tbody>\n",
       "</table>\n",
       "<p>\n",
       "1 rows x 6 columns</p>\n",
       "</div>"
      ],
      "text/plain": [
       "===================================================================================================\n",
       "module           name                           composable    doc    input type        output type \n",
       "---------------------------------------------------------------------------------------------------\n",
       "divergent.app    dvgt_seq_file_to_data_store    True                 IdentifierType    DataStoreABC\n",
       "---------------------------------------------------------------------------------------------------\n",
       "\n",
       "1 rows x 6 columns"
      ]
     },
     "execution_count": 2,
     "metadata": {},
     "output_type": "execute_result"
    }
   ],
   "source": [
    "available_apps(\"dvgt\")"
   ]
  }
 ],
 "metadata": {
  "kernelspec": {
   "display_name": "dv11",
   "language": "python",
   "name": "python3"
  },
  "language_info": {
   "codemirror_mode": {
    "name": "ipython",
    "version": 3
   },
   "file_extension": ".py",
   "mimetype": "text/x-python",
   "name": "python",
   "nbconvert_exporter": "python",
   "pygments_lexer": "ipython3",
   "version": "3.11.8"
  }
 },
 "nbformat": 4,
 "nbformat_minor": 2
}
