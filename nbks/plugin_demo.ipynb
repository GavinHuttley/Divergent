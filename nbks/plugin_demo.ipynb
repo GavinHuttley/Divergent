{
 "cells": [
  {
   "cell_type": "code",
   "execution_count": 1,
   "metadata": {},
   "outputs": [
    {
     "name": "stderr",
     "output_type": "stream",
     "text": [
      "[RSB-072834:60975] shmem: mmap: an error occurred while determining whether or not /var/folders/z_/8kd296796zl2zqd95fkv16pnx929m9/T//ompi.RSB-072834.2056332937/jf.0/1293615104/sm_segment.RSB-072834.2056332937.4d1b0000.0 could be created.\n"
     ]
    }
   ],
   "source": [
    "from cogent3 import available_apps"
   ]
  },
  {
   "cell_type": "code",
   "execution_count": 2,
   "metadata": {},
   "outputs": [
    {
     "data": {
      "text/html": [
       "<p>\n",
       "0 rows x 6 columns; unset columns=unset columns: 'module', 'name', 'composable', 'doc', 'input type', 'output type'</p>"
      ],
      "text/plain": [
       "\n",
       "0 rows x 6 columns\n",
       "unset columns: 'module', 'name', 'composable', 'doc', 'input type', 'output type'"
      ]
     },
     "execution_count": 2,
     "metadata": {},
     "output_type": "execute_result"
    }
   ],
   "source": [
    "available_apps(\"dvgt\")"
   ]
  },
  {
   "cell_type": "code",
   "execution_count": null,
   "metadata": {},
   "outputs": [],
   "source": []
  },
  {
   "cell_type": "code",
   "execution_count": null,
   "metadata": {},
   "outputs": [],
   "source": []
  }
 ],
 "metadata": {
  "kernelspec": {
   "display_name": "dv11",
   "language": "python",
   "name": "python3"
  },
  "language_info": {
   "codemirror_mode": {
    "name": "ipython",
    "version": 3
   },
   "file_extension": ".py",
   "mimetype": "text/x-python",
   "name": "python",
   "nbconvert_exporter": "python",
   "pygments_lexer": "ipython3",
   "version": "3.11.8"
  }
 },
 "nbformat": 4,
 "nbformat_minor": 2
}
