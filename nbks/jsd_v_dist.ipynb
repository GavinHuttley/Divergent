{
 "cells": [
  {
   "cell_type": "markdown",
   "metadata": {},
   "source": [
    "# Recapitulates conventional genetic distance measures\n",
    "\n",
    "`divergent` should identify sets of sequences for which their minimum genetic distance is near the upper tail of the distribution of this measure from a sampling of combinations of the same (or different size).\n",
    "\n",
    "The data was from alignments of 106 genes from exactly 31 diverse mammal species. The matrix of all pairwise genetic distances were computed between the aligned sequences using the Paralinear distance of Lake. If the JSD measure reflects genetic distance, we expect the mean of the pairwise distances between the species identified by `divergent max` to be larger than the same number of species selected randomly. We set a minimal set size of 5 and maximal set size of 10.\n",
    "\n",
    "The column labelled \"P-value<0.1\" identifies how many of `num` genes for which the divergent set species gave a p-value ≤0.1 (this value was arbitrarily chosen). The distribution for each gene was obtained be taking of the mean of 1000 randomly chosen (without replacement) combinations of species.\n",
    "\n",
    "The relationship between the statistic chosen, k and whether a post-process pruning was done all had an effect. For this data set, the combination `mean_delta_jsd`, `max_set=False` and `k=4` produced the largest relationship with genetic distance."
   ]
  },
  {
   "cell_type": "code",
   "execution_count": 1,
   "metadata": {},
   "outputs": [],
   "source": [
    "from cogent3 import load_table"
   ]
  },
  {
   "cell_type": "code",
   "execution_count": 2,
   "metadata": {},
   "outputs": [
    {
     "data": {
      "text/html": [
       "\n",
       "<div class=\"c3table\">\n",
       "\n",
       "<style>\n",
       ".c3table table {margin: 10px 0;}\n",
       ".c3table tr:last-child {border-bottom: 1px solid #000;} \n",
       ".c3table tr > th {text-align: left; padding: 0 5px;}\n",
       ".c3table tr > td {text-align: left; padding: 5px;}\n",
       ".c3table tr:nth-child(even) {background: #f7f7f7 !important;}\n",
       ".c3table .ellipsis {background: rgba(0, 0, 0, .01);}\n",
       ".c3table .index {background: rgba(161, 195, 209, 0.0); margin: 10px; font-weight: 600;}\n",
       ".c3table .head_cell {background: rgba(161, 195, 209, 0.75); font-weight: bold; text-align: center;}\n",
       ".c3table caption {color: rgb(250, 250, 250); background: rgba(30, 140, 200, 1); padding: 3px; white-space: nowrap; caption-side: top;}\n",
       ".c3table .cell_title {font-weight: bold;}\n",
       ".c3col_left { text-align: left !important; display: block;}\n",
       ".c3col_right { text-align: right !important; display: block;}\n",
       ".c3col_center { text-align: center !important; display: block;}\n",
       "</style>\n",
       "\n",
       "<table>\n",
       "\n",
       "<thead class=\"head_cell\">\n",
       "<th>k</th><th>stat</th><th>max_set</th><th>size</th><th>p-value<0.1</th><th>num</th><th>p-val<0.1(%)</th>\n",
       "</thead>\n",
       "<tbody>\n",
       "<tr><td><span class=\"c3col_right\">2</span></td><td><span class=\"c3col_left\">mean_delta_jsd</span></td><td><span class=\"c3col_left\">False</span></td><td><span class=\"c3col_right\">10</span></td><td><span class=\"c3col_right\">88</span></td><td><span class=\"c3col_right\">105</span></td><td><span class=\"c3col_right\">83.8</span></td></tr>\n",
       "<tr><td><span class=\"c3col_right\">4</span></td><td><span class=\"c3col_left\">mean_delta_jsd</span></td><td><span class=\"c3col_left\">False</span></td><td><span class=\"c3col_right\">10</span></td><td><span class=\"c3col_right\">102</span></td><td><span class=\"c3col_right\">106</span></td><td><span class=\"c3col_right\">96.2</span></td></tr>\n",
       "<tr><td><span class=\"c3col_right\">6</span></td><td><span class=\"c3col_left\">mean_delta_jsd</span></td><td><span class=\"c3col_left\">False</span></td><td><span class=\"c3col_right\">9</span></td><td><span class=\"c3col_right\">36</span></td><td><span class=\"c3col_right\">105</span></td><td><span class=\"c3col_right\">34.3</span></td></tr>\n",
       "<tr><td><span class=\"c3col_right\">8</span></td><td><span class=\"c3col_left\">mean_delta_jsd</span></td><td><span class=\"c3col_left\">False</span></td><td><span class=\"c3col_right\">10</span></td><td><span class=\"c3col_right\">37</span></td><td><span class=\"c3col_right\">105</span></td><td><span class=\"c3col_right\">35.2</span></td></tr>\n",
       "<tr><td><span class=\"c3col_right\">2</span></td><td><span class=\"c3col_left\">mean_delta_jsd</span></td><td><span class=\"c3col_left\">True</span></td><td><span class=\"c3col_right\">5</span></td><td><span class=\"c3col_right\">76</span></td><td><span class=\"c3col_right\">104</span></td><td><span class=\"c3col_right\">73.1</span></td></tr>\n",
       "<tr><td><span class=\"c3col_right\">4</span></td><td><span class=\"c3col_left\">mean_delta_jsd</span></td><td><span class=\"c3col_left\">True</span></td><td><span class=\"c3col_right\">5</span></td><td><span class=\"c3col_right\">93</span></td><td><span class=\"c3col_right\">104</span></td><td><span class=\"c3col_right\">89.4</span></td></tr>\n",
       "<tr><td><span class=\"c3col_right\">6</span></td><td><span class=\"c3col_left\">mean_delta_jsd</span></td><td><span class=\"c3col_left\">True</span></td><td><span class=\"c3col_right\">5</span></td><td><span class=\"c3col_right\">38</span></td><td><span class=\"c3col_right\">104</span></td><td><span class=\"c3col_right\">36.5</span></td></tr>\n",
       "<tr><td><span class=\"c3col_right\">8</span></td><td><span class=\"c3col_left\">mean_delta_jsd</span></td><td><span class=\"c3col_left\">True</span></td><td><span class=\"c3col_right\">5</span></td><td><span class=\"c3col_right\">50</span></td><td><span class=\"c3col_right\">104</span></td><td><span class=\"c3col_right\">48.1</span></td></tr>\n",
       "<tr><td><span class=\"c3col_right\">2</span></td><td><span class=\"c3col_left\">mean_jsd</span></td><td><span class=\"c3col_left\">False</span></td><td><span class=\"c3col_right\">9</span></td><td><span class=\"c3col_right\">83</span></td><td><span class=\"c3col_right\">105</span></td><td><span class=\"c3col_right\">79.0</span></td></tr>\n",
       "<tr><td><span class=\"c3col_right\">4</span></td><td><span class=\"c3col_left\">mean_jsd</span></td><td><span class=\"c3col_left\">False</span></td><td><span class=\"c3col_right\">7</span></td><td><span class=\"c3col_right\">92</span></td><td><span class=\"c3col_right\">106</span></td><td><span class=\"c3col_right\">86.8</span></td></tr>\n",
       "<tr><td><span class=\"c3col_right\">6</span></td><td><span class=\"c3col_left\">mean_jsd</span></td><td><span class=\"c3col_left\">False</span></td><td><span class=\"c3col_right\">5</span></td><td><span class=\"c3col_right\">13</span></td><td><span class=\"c3col_right\">104</span></td><td><span class=\"c3col_right\">12.5</span></td></tr>\n",
       "<tr><td><span class=\"c3col_right\">8</span></td><td><span class=\"c3col_left\">mean_jsd</span></td><td><span class=\"c3col_left\">False</span></td><td><span class=\"c3col_right\">6</span></td><td><span class=\"c3col_right\">15</span></td><td><span class=\"c3col_right\">104</span></td><td><span class=\"c3col_right\">14.4</span></td></tr>\n",
       "<tr><td><span class=\"c3col_right\">2</span></td><td><span class=\"c3col_left\">mean_jsd</span></td><td><span class=\"c3col_left\">True</span></td><td><span class=\"c3col_right\">5</span></td><td><span class=\"c3col_right\">75</span></td><td><span class=\"c3col_right\">104</span></td><td><span class=\"c3col_right\">72.1</span></td></tr>\n",
       "<tr><td><span class=\"c3col_right\">4</span></td><td><span class=\"c3col_left\">mean_jsd</span></td><td><span class=\"c3col_left\">True</span></td><td><span class=\"c3col_right\">5</span></td><td><span class=\"c3col_right\">89</span></td><td><span class=\"c3col_right\">104</span></td><td><span class=\"c3col_right\">85.6</span></td></tr>\n",
       "<tr><td><span class=\"c3col_right\">6</span></td><td><span class=\"c3col_left\">mean_jsd</span></td><td><span class=\"c3col_left\">True</span></td><td><span class=\"c3col_right\">5</span></td><td><span class=\"c3col_right\">13</span></td><td><span class=\"c3col_right\">104</span></td><td><span class=\"c3col_right\">12.5</span></td></tr>\n",
       "<tr><td><span class=\"c3col_right\">8</span></td><td><span class=\"c3col_left\">mean_jsd</span></td><td><span class=\"c3col_left\">True</span></td><td><span class=\"c3col_right\">5</span></td><td><span class=\"c3col_right\">16</span></td><td><span class=\"c3col_right\">104</span></td><td><span class=\"c3col_right\">15.4</span></td></tr>\n",
       "<tr><td><span class=\"c3col_right\">2</span></td><td><span class=\"c3col_left\">total_jsd</span></td><td><span class=\"c3col_left\">False</span></td><td><span class=\"c3col_right\">10</span></td><td><span class=\"c3col_right\">89</span></td><td><span class=\"c3col_right\">106</span></td><td><span class=\"c3col_right\">84.0</span></td></tr>\n",
       "<tr><td><span class=\"c3col_right\">4</span></td><td><span class=\"c3col_left\">total_jsd</span></td><td><span class=\"c3col_left\">False</span></td><td><span class=\"c3col_right\">10</span></td><td><span class=\"c3col_right\">103</span></td><td><span class=\"c3col_right\">106</span></td><td><span class=\"c3col_right\">97.2</span></td></tr>\n",
       "<tr><td><span class=\"c3col_right\">6</span></td><td><span class=\"c3col_left\">total_jsd</span></td><td><span class=\"c3col_left\">False</span></td><td><span class=\"c3col_right\">10</span></td><td><span class=\"c3col_right\">81</span></td><td><span class=\"c3col_right\">106</span></td><td><span class=\"c3col_right\">76.4</span></td></tr>\n",
       "<tr><td><span class=\"c3col_right\">8</span></td><td><span class=\"c3col_left\">total_jsd</span></td><td><span class=\"c3col_left\">False</span></td><td><span class=\"c3col_right\">10</span></td><td><span class=\"c3col_right\">98</span></td><td><span class=\"c3col_right\">106</span></td><td><span class=\"c3col_right\">92.5</span></td></tr>\n",
       "<tr><td><span class=\"c3col_right\">2</span></td><td><span class=\"c3col_left\">total_jsd</span></td><td><span class=\"c3col_left\">True</span></td><td><span class=\"c3col_right\">5</span></td><td><span class=\"c3col_right\">75</span></td><td><span class=\"c3col_right\">104</span></td><td><span class=\"c3col_right\">72.1</span></td></tr>\n",
       "<tr><td><span class=\"c3col_right\">4</span></td><td><span class=\"c3col_left\">total_jsd</span></td><td><span class=\"c3col_left\">True</span></td><td><span class=\"c3col_right\">5</span></td><td><span class=\"c3col_right\">95</span></td><td><span class=\"c3col_right\">104</span></td><td><span class=\"c3col_right\">91.3</span></td></tr>\n",
       "<tr><td><span class=\"c3col_right\">6</span></td><td><span class=\"c3col_left\">total_jsd</span></td><td><span class=\"c3col_left\">True</span></td><td><span class=\"c3col_right\">10</span></td><td><span class=\"c3col_right\">84</span></td><td><span class=\"c3col_right\">104</span></td><td><span class=\"c3col_right\">80.8</span></td></tr>\n",
       "<tr><td><span class=\"c3col_right\">8</span></td><td><span class=\"c3col_left\">total_jsd</span></td><td><span class=\"c3col_left\">True</span></td><td><span class=\"c3col_right\">10</span></td><td><span class=\"c3col_right\">100</span></td><td><span class=\"c3col_right\">106</span></td><td><span class=\"c3col_right\">94.3</span></td></tr>\n",
       "</tbody>\n",
       "</table>\n",
       "<p>\n",
       "24 rows x 7 columns</p>\n",
       "</div>"
      ],
      "text/plain": [
       "============================================================================\n",
       "k    stat              max_set    size    p-value<0.1    num    p-val<0.1(%)\n",
       "----------------------------------------------------------------------------\n",
       "2    mean_delta_jsd    0            10             88    105            83.8\n",
       "4    mean_delta_jsd    0            10            102    106            96.2\n",
       "6    mean_delta_jsd    0             9             36    105            34.3\n",
       "8    mean_delta_jsd    0            10             37    105            35.2\n",
       "2    mean_delta_jsd    1             5             76    104            73.1\n",
       "4    mean_delta_jsd    1             5             93    104            89.4\n",
       "6    mean_delta_jsd    1             5             38    104            36.5\n",
       "8    mean_delta_jsd    1             5             50    104            48.1\n",
       "2    mean_jsd          0             9             83    105            79.0\n",
       "4    mean_jsd          0             7             92    106            86.8\n",
       "6    mean_jsd          0             5             13    104            12.5\n",
       "8    mean_jsd          0             6             15    104            14.4\n",
       "2    mean_jsd          1             5             75    104            72.1\n",
       "4    mean_jsd          1             5             89    104            85.6\n",
       "6    mean_jsd          1             5             13    104            12.5\n",
       "8    mean_jsd          1             5             16    104            15.4\n",
       "2    total_jsd         0            10             89    106            84.0\n",
       "4    total_jsd         0            10            103    106            97.2\n",
       "6    total_jsd         0            10             81    106            76.4\n",
       "8    total_jsd         0            10             98    106            92.5\n",
       "2    total_jsd         1             5             75    104            72.1\n",
       "4    total_jsd         1             5             95    104            91.3\n",
       "6    total_jsd         1            10             84    104            80.8\n",
       "8    total_jsd         1            10            100    106            94.3\n",
       "----------------------------------------------------------------------------\n",
       "\n",
       "24 rows x 7 columns"
      ]
     },
     "execution_count": 2,
     "metadata": {},
     "output_type": "execute_result"
    }
   ],
   "source": [
    "table = load_table(\"jsd_v_dist.tsv\")\n",
    "table = table.with_new_column(\"p-val<0.1(%)\", lambda x: 100 * x[0]/x[1], columns=[\"p-value<0.1\", \"num\"], digits=1)\n",
    "table = table.sorted(columns=[\"stat\", \"max_set\", \"k\"])\n",
    "table"
   ]
  }
 ],
 "metadata": {
  "kernelspec": {
   "display_name": "Python 3.10.0 ('c310dev')",
   "language": "python",
   "name": "python3"
  },
  "language_info": {
   "codemirror_mode": {
    "name": "ipython",
    "version": 3
   },
   "file_extension": ".py",
   "mimetype": "text/x-python",
   "name": "python",
   "nbconvert_exporter": "python",
   "pygments_lexer": "ipython3",
   "version": "3.10.0"
  },
  "orig_nbformat": 4,
  "vscode": {
   "interpreter": {
    "hash": "cbba2c586c8ece813a5f7aa9f6ff7744ff5b0d63355ab49e33feef8cb8cb0591"
   }
  }
 },
 "nbformat": 4,
 "nbformat_minor": 2
}
