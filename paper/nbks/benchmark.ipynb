{
 "cells": [
  {
   "cell_type": "markdown",
   "metadata": {},
   "source": [
    "# Summarising compute speed\n",
    "\n",
    "`benchmark.py` was run against the REFSOIL collection -- 960 whole bacterial genomes. We separately recorded times to:\n",
    "- load the sequences from compressed files and convert them into  `SeqRecord` objects\n",
    "- identify the divergent set\n",
    "\n",
    "Each condition was run 5 times with the sequences were randomly drawn without replacement.\n",
    "\n",
    "# Synopsis\n",
    "\n",
    "Performance is approximately linear with the number of sequences.\n",
    "\n",
    "**TODO** actually plot the best fit line, not my little hack."
   ]
  },
  {
   "cell_type": "code",
   "execution_count": null,
   "metadata": {},
   "outputs": [],
   "source": [
    "from collections import defaultdict\n",
    "from cogent3 import load_table, make_table\n",
    "\n",
    "import plotly.graph_objects as go"
   ]
  },
  {
   "cell_type": "code",
   "execution_count": null,
   "metadata": {},
   "outputs": [],
   "source": [
    "def summarise(table):\n",
    "    columns = \"k\", \"num_seqs\"\n",
    "    distinct = table.distinct_values(columns)\n",
    "    data = defaultdict(list)\n",
    "    for k, num_reps in distinct:\n",
    "        subtable = table.filtered(lambda x: tuple(x) == (k, num_reps), columns=columns)\n",
    "        time_s2r = subtable.columns[\"time(s2r)\"]\n",
    "        time_maxd = subtable.columns[\"time(maxd)\"]\n",
    "        data[\"k\"].append(k)\n",
    "        data[\"num_seqs\"].append(num_reps)\n",
    "        data[\"mean(s2r)\"].append(time_s2r.mean())\n",
    "        data[\"stdev(s2r)\"].append(time_s2r.std(ddof=1))\n",
    "        data[\"mean(maxd)\"].append(time_maxd.mean())\n",
    "        data[\"stdev(maxd)\"].append(time_maxd.std(ddof=1))\n",
    "    return make_table(data=data).sorted(columns=columns)\n",
    "\n",
    "\n",
    "table = load_table(\"benchmark.tsv\")\n",
    "summary = summarise(table)\n",
    "summary"
   ]
  },
  {
   "cell_type": "code",
   "execution_count": null,
   "metadata": {},
   "outputs": [],
   "source": [
    "def get_fig(table, k, stat, title):\n",
    "    mers = table.filtered(f\"k == {k}\")\n",
    "    nseqs = mers.columns[\"num_seqs\"]\n",
    "    stats = mers.columns[f\"mean({stat})\"]\n",
    "    tr_data = go.Scatter(\n",
    "        name=\"observed\",\n",
    "        x=nseqs,\n",
    "        y=stats,\n",
    "        error_y=dict(\n",
    "            type=\"data\",  # value of error bar given in data coordinates\n",
    "            array=mers.columns[f\"stdev({stat})\"],\n",
    "            visible=True,\n",
    "        ),\n",
    "    )\n",
    "    tr_diag = go.Scatter(\n",
    "        name=\"linear\",\n",
    "        x=(nseqs.min(), nseqs.max()),\n",
    "        y=(stats.min(), stats.max()),\n",
    "    )\n",
    "    return go.Figure(\n",
    "        data=[tr_data, tr_diag],\n",
    "        layout=dict(\n",
    "            title=title,\n",
    "            xaxis=dict(title=\"number of sequences\"),\n",
    "            yaxis=dict(title=\"mean time (seconds)\"),\n",
    "            width=500,\n",
    "            height=500,\n",
    "        ),\n",
    "    )"
   ]
  },
  {
   "cell_type": "code",
   "execution_count": null,
   "metadata": {},
   "outputs": [],
   "source": [
    "fig = get_fig(summary, 3, \"s2r\", \"Converting sequences to records\")\n",
    "fig.show()"
   ]
  },
  {
   "cell_type": "markdown",
   "metadata": {},
   "source": [
    "# Identifying the maximally divergent set"
   ]
  },
  {
   "cell_type": "code",
   "execution_count": null,
   "metadata": {},
   "outputs": [],
   "source": [
    "fig = get_fig(summary, 7, \"maxd\", \"Identifying the most divergent sequences\")\n",
    "fig.show()"
   ]
  }
 ],
 "metadata": {
  "kernelspec": {
   "display_name": "Python 3.10.0 ('c310dev')",
   "language": "python",
   "name": "python3"
  },
  "language_info": {
   "codemirror_mode": {
    "name": "ipython",
    "version": 3
   },
   "file_extension": ".py",
   "mimetype": "text/x-python",
   "name": "python",
   "nbconvert_exporter": "python",
   "pygments_lexer": "ipython3",
   "version": "3.12.4"
  },
  "orig_nbformat": 4,
  "vscode": {
   "interpreter": {
    "hash": "cbba2c586c8ece813a5f7aa9f6ff7744ff5b0d63355ab49e33feef8cb8cb0591"
   }
  }
 },
 "nbformat": 4,
 "nbformat_minor": 2
}
