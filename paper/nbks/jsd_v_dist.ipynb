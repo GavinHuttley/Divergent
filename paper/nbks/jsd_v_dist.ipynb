{
 "cells": [
  {
   "cell_type": "markdown",
   "metadata": {},
   "source": [
    "# Recapitulates conventional genetic distance measures\n",
    "\n",
    "`divergent` should identify sets of sequences for which their minimum genetic distance is near the upper tail of the distribution of this measure from a sampling of combinations of the same (or different size).\n",
    "\n",
    "The data was from alignments of 106 genes from exactly 31 diverse mammal species. The matrix of all pairwise genetic distances were computed between the aligned sequences using the Paralinear distance of Lake. If the JSD measure reflects genetic distance, we expect the mean of the pairwise distances between the species identified by `divergent max` to be larger than the same number of species selected randomly. We set a minimal set size of 5 and maximal set size of 10.\n",
    "\n",
    "The column labelled \"P-value<0.1\" identifies how many of `num` genes for which the divergent set species gave a p-value ≤0.1 (this value was arbitrarily chosen). The distribution for each gene was obtained be taking of the mean of 1000 randomly chosen (without replacement) combinations of species.\n",
    "\n",
    "The relationship between the statistic chosen, k and whether a post-process pruning was done all had an effect. For this data set, the combination `mean_delta_jsd`, `max_set=False` and `k=4` produced the largest relationship with genetic distance."
   ]
  },
  {
   "cell_type": "code",
   "execution_count": null,
   "metadata": {},
   "outputs": [],
   "source": [
    "from cogent3 import load_table"
   ]
  },
  {
   "cell_type": "code",
   "execution_count": null,
   "metadata": {},
   "outputs": [],
   "source": [
    "table = load_table(\"jsd_v_dist.tsv\")\n",
    "table = table.with_new_column(\"p-val<0.1(%)\", lambda x: 100 * x[0]/x[1], columns=[\"p-value<0.1\", \"num\"], digits=1)\n",
    "table = table.sorted(columns=[\"stat\", \"max_set\", \"k\"])\n",
    "table"
   ]
  }
 ],
 "metadata": {
  "kernelspec": {
   "display_name": "Python 3.10.0 ('c310dev')",
   "language": "python",
   "name": "python3"
  },
  "language_info": {
   "codemirror_mode": {
    "name": "ipython",
    "version": 3
   },
   "file_extension": ".py",
   "mimetype": "text/x-python",
   "name": "python",
   "nbconvert_exporter": "python",
   "pygments_lexer": "ipython3",
   "version": "3.12.1"
  },
  "orig_nbformat": 4,
  "vscode": {
   "interpreter": {
    "hash": "cbba2c586c8ece813a5f7aa9f6ff7744ff5b0d63355ab49e33feef8cb8cb0591"
   }
  }
 },
 "nbformat": 4,
 "nbformat_minor": 2
}
