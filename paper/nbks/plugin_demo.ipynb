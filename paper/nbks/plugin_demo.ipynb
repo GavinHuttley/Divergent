{
 "cells": [
  {
   "cell_type": "markdown",
   "metadata": {},
   "source": [
    "We make apps available for use within cogent3. They are obtained by the standard mechanism for getting apps."
   ]
  },
  {
   "cell_type": "code",
   "execution_count": null,
   "metadata": {},
   "outputs": [],
   "source": [
    "from cogent3 import available_apps, app_help, get_app, load_aligned_seqs"
   ]
  },
  {
   "cell_type": "markdown",
   "metadata": {},
   "source": [
    "The available apps can be listed using the `available_apps()` function with the `name_filter` argument set to `\"dvgt\"`."
   ]
  },
  {
   "cell_type": "code",
   "execution_count": null,
   "metadata": {},
   "outputs": [],
   "source": [
    "available_apps(name_filter=\"dvgt\")"
   ]
  },
  {
   "cell_type": "markdown",
   "metadata": {},
   "source": [
    "You can get help using the Cogent 3 `app_help()` system."
   ]
  },
  {
   "cell_type": "code",
   "execution_count": null,
   "metadata": {},
   "outputs": [],
   "source": [
    "app_help(\"dvgt_select_max\")"
   ]
  },
  {
   "cell_type": "markdown",
   "metadata": {},
   "source": [
    "You can copy the vignette from the help display to create your first app, but note that you need to remove the type hints from the vignette."
   ]
  },
  {
   "cell_type": "code",
   "execution_count": null,
   "metadata": {},
   "outputs": [],
   "source": [
    "app = get_app(\n",
    "    \"dvgt_select_nmost\",\n",
    "    n = 5,\n",
    "    moltype = 'dna',\n",
    "    k = 4,\n",
    ")"
   ]
  },
  {
   "cell_type": "code",
   "execution_count": null,
   "metadata": {},
   "outputs": [],
   "source": [
    "app"
   ]
  },
  {
   "cell_type": "code",
   "execution_count": null,
   "metadata": {},
   "outputs": [],
   "source": [
    "seqs = load_aligned_seqs('~/repos/Cogent3/tests/data/brca1.fasta', moltype='dna').degap()"
   ]
  },
  {
   "cell_type": "code",
   "execution_count": null,
   "metadata": {},
   "outputs": [],
   "source": [
    "selected = app(seqs)\n",
    "selected"
   ]
  },
  {
   "cell_type": "markdown",
   "metadata": {},
   "source": [
    "successive calls return different results as the sequence order is randomised."
   ]
  },
  {
   "cell_type": "code",
   "execution_count": null,
   "metadata": {},
   "outputs": [],
   "source": [
    "app(seqs)"
   ]
  }
 ],
 "metadata": {
  "kernelspec": {
   "display_name": "dv11",
   "language": "python",
   "name": "python3"
  },
  "language_info": {
   "codemirror_mode": {
    "name": "ipython",
    "version": 3
   },
   "file_extension": ".py",
   "mimetype": "text/x-python",
   "name": "python",
   "nbconvert_exporter": "python",
   "pygments_lexer": "ipython3",
   "version": "3.12.4"
  }
 },
 "nbformat": 4,
 "nbformat_minor": 2
}
