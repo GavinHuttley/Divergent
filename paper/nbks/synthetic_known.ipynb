{
 "cells": [
  {
   "cell_type": "markdown",
   "metadata": {},
   "source": [
    "# Purpose\n",
    "\n",
    "Evaluate ability of max-divergent to recover known divergent lineages. We generate 4 synthetic lineages and check whether the result of `max_divergent` contains one representative of each pool.\n",
    "\n",
    "# Design\n",
    "\n",
    "We define 4 distinct sequence compositions. We then defined two distinct \"pool\" compositions in which each sequence family was present at equal frequency (termed balanced) or one sequence was very rare (termed imbalanced). In each scenario, we simulated a total of 50 sequences. This design is intended to assess whether rare sequences can be recovered.\n",
    "\n",
    "We expect `divergent max` to identify a set of precisely 4 sequences with one representative of each pool. We examined the influence of statistic choice."
   ]
  },
  {
   "cell_type": "markdown",
   "metadata": {},
   "source": [
    "# Result summary\n",
    "\n",
    "Aside from using the `total_jsd` statistic, perfect recall (one representative from each of 4 distinct pools) was observed for all cases."
   ]
  },
  {
   "cell_type": "code",
   "execution_count": null,
   "metadata": {},
   "outputs": [],
   "source": [
    "from cogent3 import load_table\n",
    "\n",
    "table = load_table(\"synthetic_knowns_summary.tsv\", digits=2)\n",
    "table"
   ]
  }
 ],
 "metadata": {
  "kernelspec": {
   "display_name": "Python 3.10.0 ('c310dev')",
   "language": "python",
   "name": "python3"
  },
  "language_info": {
   "codemirror_mode": {
    "name": "ipython",
    "version": 3
   },
   "file_extension": ".py",
   "mimetype": "text/x-python",
   "name": "python",
   "nbconvert_exporter": "python",
   "pygments_lexer": "ipython3",
   "version": "3.12.4"
  },
  "orig_nbformat": 4,
  "vscode": {
   "interpreter": {
    "hash": "cbba2c586c8ece813a5f7aa9f6ff7744ff5b0d63355ab49e33feef8cb8cb0591"
   }
  }
 },
 "nbformat": 4,
 "nbformat_minor": 2
}
